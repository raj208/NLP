{
 "cells": [
  {
   "cell_type": "code",
   "execution_count": 1,
   "id": "c676a472",
   "metadata": {},
   "outputs": [
    {
     "name": "stdout",
     "output_type": "stream",
     "text": [
      "Requirement already satisfied: nltk in /home/kuki/anaconda3/lib/python3.11/site-packages (3.8.1)\r\n",
      "Requirement already satisfied: click in /home/kuki/anaconda3/lib/python3.11/site-packages (from nltk) (8.0.4)\r\n",
      "Requirement already satisfied: joblib in /home/kuki/anaconda3/lib/python3.11/site-packages (from nltk) (1.2.0)\r\n",
      "Requirement already satisfied: regex>=2021.8.3 in /home/kuki/anaconda3/lib/python3.11/site-packages (from nltk) (2022.7.9)\r\n",
      "Requirement already satisfied: tqdm in /home/kuki/anaconda3/lib/python3.11/site-packages (from nltk) (4.65.0)\r\n"
     ]
    }
   ],
   "source": [
    "!pip install nltk"
   ]
  },
  {
   "cell_type": "code",
   "execution_count": 2,
   "id": "53a489d6",
   "metadata": {},
   "outputs": [],
   "source": [
    "para = \"\"\"\n",
    "Lionel Andrés \"Leo\" Messi[note 1] (Spanish pronunciation: [ljoˈnel anˈdɾes ˈmesi] ⓘ; born 24 June 1987) is an Argentine professional footballer who plays as a forward for and captains both Major League Soccer club Inter Miami and the Argentina national team. Widely regarded as one of the greatest players of all time, Messi set numerous records for individual accolades won throughout his professional footballing career such as eight Ballon d'Or awards and eight times being named the world's best player by FIFA.[note 2] He is the most decorated player in the history of professional football having won 45 team trophies,[note 3] including twelve Big Five league titles, four UEFA Champions Leagues, two Copa Américas, and one FIFA World Cup. Messi holds the records for most European Golden Shoes (6), most goals for a single club (672, with Barcelona), most goals (474), hat-tricks (36) and assists (192) in La Liga, most matches played (39), assists (18) and goal contributions (34) in the Copa América, most matches played (26) and goal contributions (21) in the World Cup, most international appearances (191) and international goals (112) by a South American male, and the second-most in the latter category outright. A prolific goalscorer and creative playmaker, Messi has scored over 850 senior career goals for club and country.\n",
    "\"\"\""
   ]
  },
  {
   "cell_type": "code",
   "execution_count": 3,
   "id": "9869ced0",
   "metadata": {},
   "outputs": [
    {
     "data": {
      "text/plain": [
       "'\\nLionel Andrés \"Leo\" Messi[note 1] (Spanish pronunciation: [ljoˈnel anˈdɾes ˈmesi] ⓘ; born 24 June 1987) is an Argentine professional footballer who plays as a forward for and captains both Major League Soccer club Inter Miami and the Argentina national team. Widely regarded as one of the greatest players of all time, Messi set numerous records for individual accolades won throughout his professional footballing career such as eight Ballon d\\'Or awards and eight times being named the world\\'s best player by FIFA.[note 2] He is the most decorated player in the history of professional football having won 45 team trophies,[note 3] including twelve Big Five league titles, four UEFA Champions Leagues, two Copa Américas, and one FIFA World Cup. Messi holds the records for most European Golden Shoes (6), most goals for a single club (672, with Barcelona), most goals (474), hat-tricks (36) and assists (192) in La Liga, most matches played (39), assists (18) and goal contributions (34) in the Copa América, most matches played (26) and goal contributions (21) in the World Cup, most international appearances (191) and international goals (112) by a South American male, and the second-most in the latter category outright. A prolific goalscorer and creative playmaker, Messi has scored over 850 senior career goals for club and country.\\n'"
      ]
     },
     "execution_count": 3,
     "metadata": {},
     "output_type": "execute_result"
    }
   ],
   "source": [
    "para"
   ]
  },
  {
   "cell_type": "code",
   "execution_count": 4,
   "id": "a77b5c85",
   "metadata": {},
   "outputs": [],
   "source": [
    "import nltk\n",
    "from nltk.stem import PorterStemmer\n",
    "from nltk.corpus import stopwords"
   ]
  },
  {
   "cell_type": "code",
   "execution_count": 5,
   "id": "afce0f0a",
   "metadata": {},
   "outputs": [
    {
     "name": "stderr",
     "output_type": "stream",
     "text": [
      "[nltk_data] Downloading package punkt to /home/kuki/nltk_data...\n",
      "[nltk_data]   Package punkt is already up-to-date!\n"
     ]
    }
   ],
   "source": [
    "#Tokenization --convert aragraphs into aragraphs-sentences-words\n",
    "nltk.download('punkt')\n",
    "sentences = nltk.sent_tokenize(para)"
   ]
  },
  {
   "cell_type": "code",
   "execution_count": 6,
   "id": "b79c2d6a",
   "metadata": {},
   "outputs": [
    {
     "data": {
      "text/plain": [
       "['\\nLionel Andrés \"Leo\" Messi[note 1] (Spanish pronunciation: [ljoˈnel anˈdɾes ˈmesi] ⓘ; born 24 June 1987) is an Argentine professional footballer who plays as a forward for and captains both Major League Soccer club Inter Miami and the Argentina national team.',\n",
       " \"Widely regarded as one of the greatest players of all time, Messi set numerous records for individual accolades won throughout his professional footballing career such as eight Ballon d'Or awards and eight times being named the world's best player by FIFA.\",\n",
       " '[note 2] He is the most decorated player in the history of professional football having won 45 team trophies,[note 3] including twelve Big Five league titles, four UEFA Champions Leagues, two Copa Américas, and one FIFA World Cup.',\n",
       " 'Messi holds the records for most European Golden Shoes (6), most goals for a single club (672, with Barcelona), most goals (474), hat-tricks (36) and assists (192) in La Liga, most matches played (39), assists (18) and goal contributions (34) in the Copa América, most matches played (26) and goal contributions (21) in the World Cup, most international appearances (191) and international goals (112) by a South American male, and the second-most in the latter category outright.',\n",
       " 'A prolific goalscorer and creative playmaker, Messi has scored over 850 senior career goals for club and country.']"
      ]
     },
     "execution_count": 6,
     "metadata": {},
     "output_type": "execute_result"
    }
   ],
   "source": [
    "sentences"
   ]
  },
  {
   "cell_type": "code",
   "execution_count": 7,
   "id": "5ce7636e",
   "metadata": {},
   "outputs": [],
   "source": [
    "stemmer=PorterStemmer()"
   ]
  },
  {
   "cell_type": "code",
   "execution_count": 8,
   "id": "e33ef870",
   "metadata": {},
   "outputs": [
    {
     "data": {
      "text/plain": [
       "'histori'"
      ]
     },
     "execution_count": 8,
     "metadata": {},
     "output_type": "execute_result"
    }
   ],
   "source": [
    "stemmer.stem('history')"
   ]
  },
  {
   "cell_type": "code",
   "execution_count": 9,
   "id": "69dd2f94",
   "metadata": {},
   "outputs": [
    {
     "name": "stderr",
     "output_type": "stream",
     "text": [
      "[nltk_data] Downloading package wordnet to /home/kuki/nltk_data...\n",
      "[nltk_data]   Package wordnet is already up-to-date!\n"
     ]
    },
    {
     "data": {
      "text/plain": [
       "True"
      ]
     },
     "execution_count": 9,
     "metadata": {},
     "output_type": "execute_result"
    }
   ],
   "source": [
    "from nltk.stem import WordNetLemmatizer\n",
    "nltk.download('wordnet')\n"
   ]
  },
  {
   "cell_type": "code",
   "execution_count": 16,
   "id": "78362871",
   "metadata": {},
   "outputs": [],
   "source": [
    "lemmatizer=WordNetLemmatizer()"
   ]
  },
  {
   "cell_type": "code",
   "execution_count": 29,
   "id": "4c8b6ee1",
   "metadata": {},
   "outputs": [
    {
     "data": {
      "text/plain": [
       "'history'"
      ]
     },
     "execution_count": 29,
     "metadata": {},
     "output_type": "execute_result"
    }
   ],
   "source": [
    "lemmatizer.lemmatize('history')"
   ]
  },
  {
   "cell_type": "code",
   "execution_count": 31,
   "id": "d6f35f93",
   "metadata": {},
   "outputs": [
    {
     "data": {
      "text/plain": [
       "5"
      ]
     },
     "execution_count": 31,
     "metadata": {},
     "output_type": "execute_result"
    }
   ],
   "source": [
    "len(sentences)"
   ]
  },
  {
   "cell_type": "code",
   "execution_count": 10,
   "id": "47f65066",
   "metadata": {},
   "outputs": [],
   "source": [
    "#cleaning \n",
    "import re\n",
    "corpus=[]\n",
    "for i in range(len(sentences)):\n",
    "    text = re.sub('[^a-zA-Z]', ' ',sentences[i])\n",
    "    text = text.lower()\n",
    "    corpus.append(text)"
   ]
  },
  {
   "cell_type": "code",
   "execution_count": 12,
   "id": "0732db80",
   "metadata": {},
   "outputs": [
    {
     "data": {
      "text/plain": [
       "' lionel andr s  leo  messi note     spanish pronunciation   ljo nel an d es  mesi     born    june       is an argentine professional footballer who plays as a forward for and captains both major league soccer club inter miami and the argentina national team '"
      ]
     },
     "execution_count": 12,
     "metadata": {},
     "output_type": "execute_result"
    }
   ],
   "source": [
    "corpus[0]"
   ]
  },
  {
   "cell_type": "code",
   "execution_count": 13,
   "id": "769da383",
   "metadata": {},
   "outputs": [
    {
     "name": "stdout",
     "output_type": "stream",
     "text": [
      "lionel\n",
      "andr\n",
      "leo\n",
      "messi\n",
      "note\n",
      "spanish\n",
      "pronunci\n",
      "ljo\n",
      "nel\n",
      "es\n",
      "mesi\n",
      "born\n",
      "june\n",
      "argentin\n",
      "profession\n",
      "footbal\n",
      "play\n",
      "forward\n",
      "captain\n",
      "major\n",
      "leagu\n",
      "soccer\n",
      "club\n",
      "inter\n",
      "miami\n",
      "argentina\n",
      "nation\n",
      "team\n",
      "wide\n",
      "regard\n",
      "one\n",
      "greatest\n",
      "player\n",
      "time\n",
      "messi\n",
      "set\n",
      "numer\n",
      "record\n",
      "individu\n",
      "accolad\n",
      "throughout\n",
      "profession\n",
      "footbal\n",
      "career\n",
      "eight\n",
      "ballon\n",
      "award\n",
      "eight\n",
      "time\n",
      "name\n",
      "world\n",
      "best\n",
      "player\n",
      "fifa\n",
      "note\n",
      "decor\n",
      "player\n",
      "histori\n",
      "profession\n",
      "footbal\n",
      "team\n",
      "trophi\n",
      "note\n",
      "includ\n",
      "twelv\n",
      "big\n",
      "five\n",
      "leagu\n",
      "titl\n",
      "four\n",
      "uefa\n",
      "champion\n",
      "leagu\n",
      "two\n",
      "copa\n",
      "rica\n",
      "one\n",
      "fifa\n",
      "world\n",
      "cup\n",
      "messi\n",
      "hold\n",
      "record\n",
      "european\n",
      "golden\n",
      "shoe\n",
      "goal\n",
      "singl\n",
      "club\n",
      "barcelona\n",
      "goal\n",
      "hat\n",
      "trick\n",
      "assist\n",
      "la\n",
      "liga\n",
      "match\n",
      "play\n",
      "assist\n",
      "goal\n",
      "contribut\n",
      "copa\n",
      "rica\n",
      "match\n",
      "play\n",
      "goal\n",
      "contribut\n",
      "world\n",
      "cup\n",
      "intern\n",
      "appear\n",
      "intern\n",
      "goal\n",
      "south\n",
      "american\n",
      "male\n",
      "second\n",
      "latter\n",
      "categori\n",
      "outright\n",
      "prolif\n",
      "goalscor\n",
      "creativ\n",
      "playmak\n",
      "messi\n",
      "score\n",
      "senior\n",
      "career\n",
      "goal\n",
      "club\n",
      "countri\n"
     ]
    }
   ],
   "source": [
    "#stemming \n",
    "for i in corpus:\n",
    "    words = nltk.word_tokenize(i)\n",
    "    for word in words:\n",
    "        if word not in set(stopwords.words('english')):\n",
    "            print(stemmer.stem(word))"
   ]
  },
  {
   "cell_type": "code",
   "execution_count": 42,
   "id": "2d14ecb4",
   "metadata": {},
   "outputs": [
    {
     "name": "stdout",
     "output_type": "stream",
     "text": [
      "lionel\n",
      "andr\n",
      "leo\n",
      "messi\n",
      "note\n",
      "spanish\n",
      "pronunciation\n",
      "ljo\n",
      "nel\n",
      "e\n",
      "mesi\n",
      "born\n",
      "june\n",
      "argentine\n",
      "professional\n",
      "footballer\n",
      "play\n",
      "forward\n",
      "captain\n",
      "major\n",
      "league\n",
      "soccer\n",
      "club\n",
      "inter\n",
      "miami\n",
      "argentina\n",
      "national\n",
      "team\n",
      "widely\n",
      "regarded\n",
      "one\n",
      "greatest\n",
      "player\n",
      "time\n",
      "messi\n",
      "set\n",
      "numerous\n",
      "record\n",
      "individual\n",
      "accolade\n",
      "throughout\n",
      "professional\n",
      "footballing\n",
      "career\n",
      "eight\n",
      "ballon\n",
      "award\n",
      "eight\n",
      "time\n",
      "named\n",
      "world\n",
      "best\n",
      "player\n",
      "fifa\n",
      "note\n",
      "decorated\n",
      "player\n",
      "history\n",
      "professional\n",
      "football\n",
      "team\n",
      "trophy\n",
      "note\n",
      "including\n",
      "twelve\n",
      "big\n",
      "five\n",
      "league\n",
      "title\n",
      "four\n",
      "uefa\n",
      "champion\n",
      "league\n",
      "two\n",
      "copa\n",
      "ricas\n",
      "one\n",
      "fifa\n",
      "world\n",
      "cup\n",
      "messi\n",
      "hold\n",
      "record\n",
      "european\n",
      "golden\n",
      "shoe\n",
      "goal\n",
      "single\n",
      "club\n",
      "barcelona\n",
      "goal\n",
      "hat\n",
      "trick\n",
      "assist\n",
      "la\n",
      "liga\n",
      "match\n",
      "played\n",
      "assist\n",
      "goal\n",
      "contribution\n",
      "copa\n",
      "rica\n",
      "match\n",
      "played\n",
      "goal\n",
      "contribution\n",
      "world\n",
      "cup\n",
      "international\n",
      "appearance\n",
      "international\n",
      "goal\n",
      "south\n",
      "american\n",
      "male\n",
      "second\n",
      "latter\n",
      "category\n",
      "outright\n",
      "prolific\n",
      "goalscorer\n",
      "creative\n",
      "playmaker\n",
      "messi\n",
      "scored\n",
      "senior\n",
      "career\n",
      "goal\n",
      "club\n",
      "country\n"
     ]
    }
   ],
   "source": [
    "#limitization\n",
    "for i in corpus:\n",
    "    words = nltk.word_tokenize(i)\n",
    "    for word in words:\n",
    "        if word not in set(stopwords.words('english')):\n",
    "            print(lemmatizer.lemmatize(word))"
   ]
  },
  {
   "cell_type": "code",
   "execution_count": 14,
   "id": "4a12fb3a",
   "metadata": {},
   "outputs": [
    {
     "data": {
      "text/plain": [
       "' lionel andr s  leo  messi note     spanish pronunciation   ljo nel an d es  mesi     born    june       is an argentine professional footballer who plays as a forward for and captains both major league soccer club inter miami and the argentina national team '"
      ]
     },
     "execution_count": 14,
     "metadata": {},
     "output_type": "execute_result"
    }
   ],
   "source": [
    "corpus[0]"
   ]
  },
  {
   "cell_type": "code",
   "execution_count": 17,
   "id": "7753338a",
   "metadata": {},
   "outputs": [],
   "source": [
    "# Apply stopwords.  Lemmatize\n",
    "import re \n",
    "corpus = []\n",
    "for i in range(len(sentences)):\n",
    "    review = re.sub('[^a-zA-Z]', ' ', sentences[i])\n",
    "    review = review.lower()\n",
    "    review = review.split()\n",
    "    review = [lemmatizer.lemmatize(word) for word in review if not word in set(stopwords.words('english'))]\n",
    "    review = ' '.join(review)\n",
    "    corpus.append(review)\n",
    "              "
   ]
  },
  {
   "cell_type": "code",
   "execution_count": 20,
   "id": "212ad941",
   "metadata": {},
   "outputs": [
    {
     "data": {
      "text/plain": [
       "'lionel andr leo messi note spanish pronunciation ljo nel e mesi born june argentine professional footballer play forward captain major league soccer club inter miami argentina national team'"
      ]
     },
     "execution_count": 20,
     "metadata": {},
     "output_type": "execute_result"
    }
   ],
   "source": [
    "corpus[0]"
   ]
  },
  {
   "cell_type": "code",
   "execution_count": 35,
   "id": "31515c7a",
   "metadata": {},
   "outputs": [],
   "source": [
    "#bag of words\n",
    "from sklearn.feature_extraction.text import CountVectorizer\n",
    "# cv= CountVectorizer()\n",
    "cv= CountVectorizer(binary=True, ngram_range=(2,3)) #No greater number than 2"
   ]
  },
  {
   "cell_type": "code",
   "execution_count": 36,
   "id": "b52bdad9",
   "metadata": {},
   "outputs": [],
   "source": [
    "X=cv.fit_transform(corpus)"
   ]
  },
  {
   "cell_type": "code",
   "execution_count": 37,
   "id": "4cf8de8b",
   "metadata": {},
   "outputs": [
    {
     "data": {
      "text/plain": [
       "{'lionel andr': 125,\n",
       " 'andr leo': 4,\n",
       " 'leo messi': 121,\n",
       " 'messi note': 140,\n",
       " 'note spanish': 157,\n",
       " 'spanish pronunciation': 214,\n",
       " 'pronunciation ljo': 186,\n",
       " 'ljo nel': 127,\n",
       " 'nel mesi': 151,\n",
       " 'mesi born': 136,\n",
       " 'born june': 26,\n",
       " 'june argentine': 109,\n",
       " 'argentine professional': 10,\n",
       " 'professional footballer': 180,\n",
       " 'footballer play': 68,\n",
       " 'play forward': 165,\n",
       " 'forward captain': 72,\n",
       " 'captain major': 28,\n",
       " 'major league': 129,\n",
       " 'league soccer': 115,\n",
       " 'soccer club': 210,\n",
       " 'club inter': 40,\n",
       " 'inter miami': 103,\n",
       " 'miami argentina': 146,\n",
       " 'argentina national': 8,\n",
       " 'national team': 150,\n",
       " 'lionel andr leo': 126,\n",
       " 'andr leo messi': 5,\n",
       " 'leo messi note': 122,\n",
       " 'messi note spanish': 141,\n",
       " 'note spanish pronunciation': 158,\n",
       " 'spanish pronunciation ljo': 215,\n",
       " 'pronunciation ljo nel': 187,\n",
       " 'ljo nel mesi': 128,\n",
       " 'nel mesi born': 152,\n",
       " 'mesi born june': 137,\n",
       " 'born june argentine': 27,\n",
       " 'june argentine professional': 110,\n",
       " 'argentine professional footballer': 11,\n",
       " 'professional footballer play': 181,\n",
       " 'footballer play forward': 69,\n",
       " 'play forward captain': 166,\n",
       " 'forward captain major': 73,\n",
       " 'captain major league': 29,\n",
       " 'major league soccer': 130,\n",
       " 'league soccer club': 116,\n",
       " 'soccer club inter': 211,\n",
       " 'club inter miami': 41,\n",
       " 'inter miami argentina': 104,\n",
       " 'miami argentina national': 147,\n",
       " 'argentina national team': 9,\n",
       " 'widely regarded': 236,\n",
       " 'regarded one': 192,\n",
       " 'one greatest': 163,\n",
       " 'greatest player': 91,\n",
       " 'player time': 174,\n",
       " 'time messi': 220,\n",
       " 'messi set': 144,\n",
       " 'set numerous': 204,\n",
       " 'numerous record': 159,\n",
       " 'record individual': 190,\n",
       " 'individual accolade': 101,\n",
       " 'accolade throughout': 0,\n",
       " 'throughout professional': 218,\n",
       " 'professional footballing': 182,\n",
       " 'footballing career': 70,\n",
       " 'career eight': 30,\n",
       " 'eight ballon': 56,\n",
       " 'ballon award': 18,\n",
       " 'award eight': 16,\n",
       " 'eight time': 58,\n",
       " 'time named': 222,\n",
       " 'named world': 148,\n",
       " 'world best': 238,\n",
       " 'best player': 22,\n",
       " 'player fifa': 171,\n",
       " 'widely regarded one': 237,\n",
       " 'regarded one greatest': 193,\n",
       " 'one greatest player': 164,\n",
       " 'greatest player time': 92,\n",
       " 'player time messi': 175,\n",
       " 'time messi set': 221,\n",
       " 'messi set numerous': 145,\n",
       " 'set numerous record': 205,\n",
       " 'numerous record individual': 160,\n",
       " 'record individual accolade': 191,\n",
       " 'individual accolade throughout': 102,\n",
       " 'accolade throughout professional': 1,\n",
       " 'throughout professional footballing': 219,\n",
       " 'professional footballing career': 183,\n",
       " 'footballing career eight': 71,\n",
       " 'career eight ballon': 31,\n",
       " 'eight ballon award': 57,\n",
       " 'ballon award eight': 19,\n",
       " 'award eight time': 17,\n",
       " 'eight time named': 59,\n",
       " 'time named world': 223,\n",
       " 'named world best': 149,\n",
       " 'world best player': 239,\n",
       " 'best player fifa': 23,\n",
       " 'note decorated': 153,\n",
       " 'decorated player': 54,\n",
       " 'player history': 172,\n",
       " 'history professional': 95,\n",
       " 'professional football': 178,\n",
       " 'football team': 66,\n",
       " 'team trophy': 216,\n",
       " 'trophy note': 228,\n",
       " 'note including': 155,\n",
       " 'including twelve': 99,\n",
       " 'twelve big': 230,\n",
       " 'big five': 24,\n",
       " 'five league': 64,\n",
       " 'league title': 117,\n",
       " 'title four': 224,\n",
       " 'four uefa': 74,\n",
       " 'uefa champion': 234,\n",
       " 'champion league': 35,\n",
       " 'league two': 119,\n",
       " 'two copa': 232,\n",
       " 'copa ricas': 48,\n",
       " 'ricas one': 196,\n",
       " 'one fifa': 161,\n",
       " 'fifa world': 62,\n",
       " 'world cup': 240,\n",
       " 'note decorated player': 154,\n",
       " 'decorated player history': 55,\n",
       " 'player history professional': 173,\n",
       " 'history professional football': 96,\n",
       " 'professional football team': 179,\n",
       " 'football team trophy': 67,\n",
       " 'team trophy note': 217,\n",
       " 'trophy note including': 229,\n",
       " 'note including twelve': 156,\n",
       " 'including twelve big': 100,\n",
       " 'twelve big five': 231,\n",
       " 'big five league': 25,\n",
       " 'five league title': 65,\n",
       " 'league title four': 118,\n",
       " 'title four uefa': 225,\n",
       " 'four uefa champion': 75,\n",
       " 'uefa champion league': 235,\n",
       " 'champion league two': 36,\n",
       " 'league two copa': 120,\n",
       " 'two copa ricas': 233,\n",
       " 'copa ricas one': 49,\n",
       " 'ricas one fifa': 197,\n",
       " 'one fifa world': 162,\n",
       " 'fifa world cup': 63,\n",
       " 'messi hold': 138,\n",
       " 'hold record': 97,\n",
       " 'record european': 188,\n",
       " 'european golden': 60,\n",
       " 'golden shoe': 89,\n",
       " 'shoe goal': 206,\n",
       " 'goal single': 83,\n",
       " 'single club': 208,\n",
       " 'club barcelona': 37,\n",
       " 'barcelona goal': 20,\n",
       " 'goal hat': 81,\n",
       " 'hat trick': 93,\n",
       " 'trick assist': 226,\n",
       " 'assist la': 14,\n",
       " 'la liga': 111,\n",
       " 'liga match': 123,\n",
       " 'match played': 133,\n",
       " 'played assist': 167,\n",
       " 'assist goal': 12,\n",
       " 'goal contribution': 78,\n",
       " 'contribution copa': 42,\n",
       " 'copa rica': 46,\n",
       " 'rica match': 194,\n",
       " 'played goal': 169,\n",
       " 'contribution world': 44,\n",
       " 'cup international': 52,\n",
       " 'international appearance': 105,\n",
       " 'appearance international': 6,\n",
       " 'international goal': 107,\n",
       " 'goal south': 85,\n",
       " 'south american': 212,\n",
       " 'american male': 2,\n",
       " 'male second': 131,\n",
       " 'second latter': 200,\n",
       " 'latter category': 113,\n",
       " 'category outright': 34,\n",
       " 'messi hold record': 139,\n",
       " 'hold record european': 98,\n",
       " 'record european golden': 189,\n",
       " 'european golden shoe': 61,\n",
       " 'golden shoe goal': 90,\n",
       " 'shoe goal single': 207,\n",
       " 'goal single club': 84,\n",
       " 'single club barcelona': 209,\n",
       " 'club barcelona goal': 38,\n",
       " 'barcelona goal hat': 21,\n",
       " 'goal hat trick': 82,\n",
       " 'hat trick assist': 94,\n",
       " 'trick assist la': 227,\n",
       " 'assist la liga': 15,\n",
       " 'la liga match': 112,\n",
       " 'liga match played': 124,\n",
       " 'match played assist': 134,\n",
       " 'played assist goal': 168,\n",
       " 'assist goal contribution': 13,\n",
       " 'goal contribution copa': 79,\n",
       " 'contribution copa rica': 43,\n",
       " 'copa rica match': 47,\n",
       " 'rica match played': 195,\n",
       " 'match played goal': 135,\n",
       " 'played goal contribution': 170,\n",
       " 'goal contribution world': 80,\n",
       " 'contribution world cup': 45,\n",
       " 'world cup international': 241,\n",
       " 'cup international appearance': 53,\n",
       " 'international appearance international': 106,\n",
       " 'appearance international goal': 7,\n",
       " 'international goal south': 108,\n",
       " 'goal south american': 86,\n",
       " 'south american male': 213,\n",
       " 'american male second': 3,\n",
       " 'male second latter': 132,\n",
       " 'second latter category': 201,\n",
       " 'latter category outright': 114,\n",
       " 'prolific goalscorer': 184,\n",
       " 'goalscorer creative': 87,\n",
       " 'creative playmaker': 50,\n",
       " 'playmaker messi': 176,\n",
       " 'messi scored': 142,\n",
       " 'scored senior': 198,\n",
       " 'senior career': 202,\n",
       " 'career goal': 32,\n",
       " 'goal club': 76,\n",
       " 'club country': 39,\n",
       " 'prolific goalscorer creative': 185,\n",
       " 'goalscorer creative playmaker': 88,\n",
       " 'creative playmaker messi': 51,\n",
       " 'playmaker messi scored': 177,\n",
       " 'messi scored senior': 143,\n",
       " 'scored senior career': 199,\n",
       " 'senior career goal': 203,\n",
       " 'career goal club': 33,\n",
       " 'goal club country': 77}"
      ]
     },
     "execution_count": 37,
     "metadata": {},
     "output_type": "execute_result"
    }
   ],
   "source": [
    "cv.vocabulary_"
   ]
  },
  {
   "cell_type": "code",
   "execution_count": 38,
   "id": "58793f06",
   "metadata": {},
   "outputs": [
    {
     "data": {
      "text/plain": [
       "'lionel andr leo messi note spanish pronunciation ljo nel e mesi born june argentine professional footballer play forward captain major league soccer club inter miami argentina national team'"
      ]
     },
     "execution_count": 38,
     "metadata": {},
     "output_type": "execute_result"
    }
   ],
   "source": [
    "corpus[0]"
   ]
  },
  {
   "cell_type": "code",
   "execution_count": 39,
   "id": "a57e82c9",
   "metadata": {},
   "outputs": [
    {
     "data": {
      "text/plain": [
       "array([[0, 0, 0, 0, 1, 1, 0, 0, 1, 1, 1, 1, 0, 0, 0, 0, 0, 0, 0, 0, 0, 0,\n",
       "        0, 0, 0, 0, 1, 1, 1, 1, 0, 0, 0, 0, 0, 0, 0, 0, 0, 0, 1, 1, 0, 0,\n",
       "        0, 0, 0, 0, 0, 0, 0, 0, 0, 0, 0, 0, 0, 0, 0, 0, 0, 0, 0, 0, 0, 0,\n",
       "        0, 0, 1, 1, 0, 0, 1, 1, 0, 0, 0, 0, 0, 0, 0, 0, 0, 0, 0, 0, 0, 0,\n",
       "        0, 0, 0, 0, 0, 0, 0, 0, 0, 0, 0, 0, 0, 0, 0, 1, 1, 0, 0, 0, 0, 1,\n",
       "        1, 0, 0, 0, 0, 1, 1, 0, 0, 0, 0, 1, 1, 0, 0, 1, 1, 1, 1, 1, 1, 0,\n",
       "        0, 0, 0, 0, 1, 1, 0, 0, 1, 1, 0, 0, 0, 0, 1, 1, 0, 0, 1, 1, 1, 0,\n",
       "        0, 0, 0, 1, 1, 0, 0, 0, 0, 0, 0, 1, 1, 0, 0, 0, 0, 0, 0, 0, 0, 0,\n",
       "        0, 0, 0, 0, 1, 1, 0, 0, 0, 0, 1, 1, 0, 0, 0, 0, 0, 0, 0, 0, 0, 0,\n",
       "        0, 0, 0, 0, 0, 0, 0, 0, 0, 0, 0, 0, 1, 1, 0, 0, 1, 1, 0, 0, 0, 0,\n",
       "        0, 0, 0, 0, 0, 0, 0, 0, 0, 0, 0, 0, 0, 0, 0, 0, 0, 0, 0, 0, 0, 0]])"
      ]
     },
     "execution_count": 39,
     "metadata": {},
     "output_type": "execute_result"
    }
   ],
   "source": [
    "#How bag of words are formed\n",
    "X[0].toarray()"
   ]
  },
  {
   "cell_type": "code",
   "execution_count": 52,
   "id": "783a74e4",
   "metadata": {},
   "outputs": [],
   "source": [
    "#TF_IDF\n",
    "from sklearn.feature_extraction.text import TfidfVectorizer\n",
    "cv = TfidfVectorizer(ngram_range=(2,2), max_features = 10) #max_features takes the top n high frequency\n",
    "X=cv.fit_transform(corpus)"
   ]
  },
  {
   "cell_type": "code",
   "execution_count": 53,
   "id": "78aaf73b",
   "metadata": {},
   "outputs": [
    {
     "data": {
      "text/plain": [
       "'lionel andr leo messi note spanish pronunciation ljo nel e mesi born june argentine professional footballer play forward captain major league soccer club inter miami argentina national team'"
      ]
     },
     "execution_count": 53,
     "metadata": {},
     "output_type": "execute_result"
    }
   ],
   "source": [
    "corpus[0]"
   ]
  },
  {
   "cell_type": "code",
   "execution_count": 54,
   "id": "37e879d8",
   "metadata": {},
   "outputs": [
    {
     "data": {
      "text/plain": [
       "array([[0., 0., 0., 1., 0., 0., 0., 0., 0., 0.]])"
      ]
     },
     "execution_count": 54,
     "metadata": {},
     "output_type": "execute_result"
    }
   ],
   "source": [
    "X[0].toarray()"
   ]
  },
  {
   "cell_type": "code",
   "execution_count": null,
   "id": "5d792730",
   "metadata": {},
   "outputs": [],
   "source": []
  }
 ],
 "metadata": {
  "kernelspec": {
   "display_name": "Python 3 (ipykernel)",
   "language": "python",
   "name": "python3"
  },
  "language_info": {
   "codemirror_mode": {
    "name": "ipython",
    "version": 3
   },
   "file_extension": ".py",
   "mimetype": "text/x-python",
   "name": "python",
   "nbconvert_exporter": "python",
   "pygments_lexer": "ipython3",
   "version": "3.11.5"
  }
 },
 "nbformat": 4,
 "nbformat_minor": 5
}
