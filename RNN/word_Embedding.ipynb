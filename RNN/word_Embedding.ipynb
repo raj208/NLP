{
 "cells": [
  {
   "cell_type": "raw",
   "id": "283b037f",
   "metadata": {},
   "source": [
    "OHE:one hot encoding\n",
    "padding -> post pading and pre padding : making the input size fixed to training in NN\n",
    "        -post padding: adding zeroes in the end for eqaulizing the size\n",
    "        - pre padding : adding zeroes at the starting to equalize the size\n",
    "        -\n",
    "OHE-> vector"
   ]
  },
  {
   "cell_type": "markdown",
   "id": "bf4e3f4e",
   "metadata": {},
   "source": [
    "Text Preprocessing->Padding -> word2Vec(Embedding)"
   ]
  },
  {
   "cell_type": "raw",
   "id": "9261e550",
   "metadata": {},
   "source": [
    "1.advantages of taking larger vocabalary size\n",
    "2."
   ]
  },
  {
   "cell_type": "code",
   "execution_count": 1,
   "id": "a48ec2e8",
   "metadata": {},
   "outputs": [
    {
     "name": "stderr",
     "output_type": "stream",
     "text": [
      "2025-01-23 03:42:13.047198: I external/local_xla/xla/tsl/cuda/cudart_stub.cc:32] Could not find cuda drivers on your machine, GPU will not be used.\n",
      "2025-01-23 03:42:13.220461: I external/local_xla/xla/tsl/cuda/cudart_stub.cc:32] Could not find cuda drivers on your machine, GPU will not be used.\n",
      "2025-01-23 03:42:13.393659: E external/local_xla/xla/stream_executor/cuda/cuda_fft.cc:485] Unable to register cuFFT factory: Attempting to register factory for plugin cuFFT when one has already been registered\n",
      "2025-01-23 03:42:13.549008: E external/local_xla/xla/stream_executor/cuda/cuda_dnn.cc:8454] Unable to register cuDNN factory: Attempting to register factory for plugin cuDNN when one has already been registered\n",
      "2025-01-23 03:42:13.590435: E external/local_xla/xla/stream_executor/cuda/cuda_blas.cc:1452] Unable to register cuBLAS factory: Attempting to register factory for plugin cuBLAS when one has already been registered\n",
      "2025-01-23 03:42:16.423943: W tensorflow/compiler/tf2tensorrt/utils/py_utils.cc:38] TF-TRT Warning: Could not find TensorRT\n"
     ]
    }
   ],
   "source": [
    "from tensorflow.keras.preprocessing.text import one_hot"
   ]
  },
  {
   "cell_type": "code",
   "execution_count": 2,
   "id": "06e4aac5",
   "metadata": {},
   "outputs": [],
   "source": [
    "msg= ['I play football',\n",
    "     'I play chess', \n",
    "     'I study computer science',\n",
    "     'It is too late to wake up',\n",
    "     'Go to sleep',\n",
    "     'I am a good developer',\n",
    "     'I love drinking coffee',\n",
    "     'understand the meaning of words']"
   ]
  },
  {
   "cell_type": "code",
   "execution_count": 3,
   "id": "076f9981",
   "metadata": {},
   "outputs": [
    {
     "data": {
      "text/plain": [
       "['I play football',\n",
       " 'I play chess',\n",
       " 'I study computer science',\n",
       " 'It is too late to wake up',\n",
       " 'Go to sleep',\n",
       " 'I am a good developer',\n",
       " 'I love drinking coffee',\n",
       " 'understand the meaning of words']"
      ]
     },
     "execution_count": 3,
     "metadata": {},
     "output_type": "execute_result"
    }
   ],
   "source": [
    "msg"
   ]
  },
  {
   "cell_type": "code",
   "execution_count": 4,
   "id": "6bdca50b",
   "metadata": {},
   "outputs": [],
   "source": [
    "voc_size = 500"
   ]
  },
  {
   "cell_type": "code",
   "execution_count": 6,
   "id": "d0401149",
   "metadata": {},
   "outputs": [
    {
     "name": "stdout",
     "output_type": "stream",
     "text": [
      "[[491, 50, 136], [491, 50, 261], [491, 53, 425, 150], [67, 320, 194, 150, 117, 224, 476], [390, 117, 380], [491, 259, 72, 426, 328], [491, 167, 369, 384], [299, 155, 233, 389, 186]]\n"
     ]
    }
   ],
   "source": [
    "onehot_repr = [one_hot(words, voc_size)for words in msg]\n",
    "print(onehot_repr)"
   ]
  },
  {
   "cell_type": "code",
   "execution_count": 14,
   "id": "8830761d",
   "metadata": {},
   "outputs": [],
   "source": [
    "from tensorflow.keras.layers import Embedding\n",
    "from tensorflow.keras.preprocessing.sequence import pad_sequences\n",
    "from tensorflow.keras.models import Sequential\n",
    "import numpy as np"
   ]
  },
  {
   "cell_type": "code",
   "execution_count": 15,
   "id": "94f09bd8",
   "metadata": {},
   "outputs": [
    {
     "name": "stdout",
     "output_type": "stream",
     "text": [
      "[[  0   0   0   0   0 491  50 136]\n",
      " [  0   0   0   0   0 491  50 261]\n",
      " [  0   0   0   0 491  53 425 150]\n",
      " [  0  67 320 194 150 117 224 476]\n",
      " [  0   0   0   0   0 390 117 380]\n",
      " [  0   0   0 491 259  72 426 328]\n",
      " [  0   0   0   0 491 167 369 384]\n",
      " [  0   0   0 299 155 233 389 186]]\n"
     ]
    }
   ],
   "source": [
    "msg_lenght = 8\n",
    "embedded_docs = pad_sequences(onehot_repr, padding = 'pre', maxlen = msg_lenght)\n",
    "print(embedded_docs)`"
   ]
  },
  {
   "cell_type": "code",
   "execution_count": 16,
   "id": "3789b927",
   "metadata": {},
   "outputs": [],
   "source": [
    "# 10 features dimension\n",
    "dim = 10"
   ]
  },
  {
   "cell_type": "code",
   "execution_count": 18,
   "id": "383bac87",
   "metadata": {},
   "outputs": [
    {
     "name": "stderr",
     "output_type": "stream",
     "text": [
      "/home/kuki/anaconda3/lib/python3.11/site-packages/keras/src/layers/core/embedding.py:90: UserWarning: Argument `input_length` is deprecated. Just remove it.\n",
      "  warnings.warn(\n"
     ]
    }
   ],
   "source": [
    "model=Sequential()\n",
    "model.add(Embedding(voc_size, dim, input_length= msg_lenght))\n",
    "model.compile('adam', 'mse')"
   ]
  },
  {
   "cell_type": "code",
   "execution_count": 19,
   "id": "39065ee9",
   "metadata": {},
   "outputs": [
    {
     "data": {
      "text/html": [
       "<pre style=\"white-space:pre;overflow-x:auto;line-height:normal;font-family:Menlo,'DejaVu Sans Mono',consolas,'Courier New',monospace\"><span style=\"font-weight: bold\">Model: \"sequential_1\"</span>\n",
       "</pre>\n"
      ],
      "text/plain": [
       "\u001b[1mModel: \"sequential_1\"\u001b[0m\n"
      ]
     },
     "metadata": {},
     "output_type": "display_data"
    },
    {
     "data": {
      "text/html": [
       "<pre style=\"white-space:pre;overflow-x:auto;line-height:normal;font-family:Menlo,'DejaVu Sans Mono',consolas,'Courier New',monospace\">┏━━━━━━━━━━━━━━━━━━━━━━━━━━━━━━━━━┳━━━━━━━━━━━━━━━━━━━━━━━━┳━━━━━━━━━━━━━━━┓\n",
       "┃<span style=\"font-weight: bold\"> Layer (type)                    </span>┃<span style=\"font-weight: bold\"> Output Shape           </span>┃<span style=\"font-weight: bold\">       Param # </span>┃\n",
       "┡━━━━━━━━━━━━━━━━━━━━━━━━━━━━━━━━━╇━━━━━━━━━━━━━━━━━━━━━━━━╇━━━━━━━━━━━━━━━┩\n",
       "│ embedding_1 (<span style=\"color: #0087ff; text-decoration-color: #0087ff\">Embedding</span>)         │ ?                      │   <span style=\"color: #00af00; text-decoration-color: #00af00\">0</span> (unbuilt) │\n",
       "└─────────────────────────────────┴────────────────────────┴───────────────┘\n",
       "</pre>\n"
      ],
      "text/plain": [
       "┏━━━━━━━━━━━━━━━━━━━━━━━━━━━━━━━━━┳━━━━━━━━━━━━━━━━━━━━━━━━┳━━━━━━━━━━━━━━━┓\n",
       "┃\u001b[1m \u001b[0m\u001b[1mLayer (type)                   \u001b[0m\u001b[1m \u001b[0m┃\u001b[1m \u001b[0m\u001b[1mOutput Shape          \u001b[0m\u001b[1m \u001b[0m┃\u001b[1m \u001b[0m\u001b[1m      Param #\u001b[0m\u001b[1m \u001b[0m┃\n",
       "┡━━━━━━━━━━━━━━━━━━━━━━━━━━━━━━━━━╇━━━━━━━━━━━━━━━━━━━━━━━━╇━━━━━━━━━━━━━━━┩\n",
       "│ embedding_1 (\u001b[38;5;33mEmbedding\u001b[0m)         │ ?                      │   \u001b[38;5;34m0\u001b[0m (unbuilt) │\n",
       "└─────────────────────────────────┴────────────────────────┴───────────────┘\n"
      ]
     },
     "metadata": {},
     "output_type": "display_data"
    },
    {
     "data": {
      "text/html": [
       "<pre style=\"white-space:pre;overflow-x:auto;line-height:normal;font-family:Menlo,'DejaVu Sans Mono',consolas,'Courier New',monospace\"><span style=\"font-weight: bold\"> Total params: </span><span style=\"color: #00af00; text-decoration-color: #00af00\">0</span> (0.00 B)\n",
       "</pre>\n"
      ],
      "text/plain": [
       "\u001b[1m Total params: \u001b[0m\u001b[38;5;34m0\u001b[0m (0.00 B)\n"
      ]
     },
     "metadata": {},
     "output_type": "display_data"
    },
    {
     "data": {
      "text/html": [
       "<pre style=\"white-space:pre;overflow-x:auto;line-height:normal;font-family:Menlo,'DejaVu Sans Mono',consolas,'Courier New',monospace\"><span style=\"font-weight: bold\"> Trainable params: </span><span style=\"color: #00af00; text-decoration-color: #00af00\">0</span> (0.00 B)\n",
       "</pre>\n"
      ],
      "text/plain": [
       "\u001b[1m Trainable params: \u001b[0m\u001b[38;5;34m0\u001b[0m (0.00 B)\n"
      ]
     },
     "metadata": {},
     "output_type": "display_data"
    },
    {
     "data": {
      "text/html": [
       "<pre style=\"white-space:pre;overflow-x:auto;line-height:normal;font-family:Menlo,'DejaVu Sans Mono',consolas,'Courier New',monospace\"><span style=\"font-weight: bold\"> Non-trainable params: </span><span style=\"color: #00af00; text-decoration-color: #00af00\">0</span> (0.00 B)\n",
       "</pre>\n"
      ],
      "text/plain": [
       "\u001b[1m Non-trainable params: \u001b[0m\u001b[38;5;34m0\u001b[0m (0.00 B)\n"
      ]
     },
     "metadata": {},
     "output_type": "display_data"
    }
   ],
   "source": [
    "model.summary()"
   ]
  },
  {
   "cell_type": "code",
   "execution_count": 21,
   "id": "662c11e9",
   "metadata": {},
   "outputs": [
    {
     "data": {
      "text/plain": [
       "array([  0,   0,   0,   0,   0, 491,  50, 136], dtype=int32)"
      ]
     },
     "execution_count": 21,
     "metadata": {},
     "output_type": "execute_result"
    }
   ],
   "source": [
    "embedded_docs[0]"
   ]
  },
  {
   "cell_type": "code",
   "execution_count": 22,
   "id": "7eeb1d2b",
   "metadata": {},
   "outputs": [
    {
     "name": "stdout",
     "output_type": "stream",
     "text": [
      "\u001b[1m1/1\u001b[0m \u001b[32m━━━━━━━━━━━━━━━━━━━━\u001b[0m\u001b[37m\u001b[0m \u001b[1m0s\u001b[0m 369ms/step\n"
     ]
    },
    {
     "data": {
      "text/plain": [
       "array([[-0.02324705, -0.042694  ,  0.00905776, -0.01349924, -0.01756923,\n",
       "        -0.00548046, -0.0010945 , -0.04195472, -0.04915377, -0.01859315],\n",
       "       [-0.02324705, -0.042694  ,  0.00905776, -0.01349924, -0.01756923,\n",
       "        -0.00548046, -0.0010945 , -0.04195472, -0.04915377, -0.01859315],\n",
       "       [-0.02324705, -0.042694  ,  0.00905776, -0.01349924, -0.01756923,\n",
       "        -0.00548046, -0.0010945 , -0.04195472, -0.04915377, -0.01859315],\n",
       "       [-0.02324705, -0.042694  ,  0.00905776, -0.01349924, -0.01756923,\n",
       "        -0.00548046, -0.0010945 , -0.04195472, -0.04915377, -0.01859315],\n",
       "       [-0.02324705, -0.042694  ,  0.00905776, -0.01349924, -0.01756923,\n",
       "        -0.00548046, -0.0010945 , -0.04195472, -0.04915377, -0.01859315],\n",
       "       [ 0.03345025,  0.00055062, -0.04758108, -0.00494234,  0.0116505 ,\n",
       "        -0.04301015, -0.03970891, -0.01027477, -0.04810251, -0.03618366],\n",
       "       [-0.00237696,  0.00100207,  0.03953755,  0.00569825, -0.00098077,\n",
       "         0.03112057, -0.00123408, -0.00965445,  0.04011661, -0.02437956],\n",
       "       [ 0.0481449 ,  0.02699386,  0.04957746,  0.03696973,  0.02516467,\n",
       "        -0.03103111,  0.01841222,  0.0117995 ,  0.01747504, -0.04485361]],\n",
       "      dtype=float32)"
      ]
     },
     "execution_count": 22,
     "metadata": {},
     "output_type": "execute_result"
    }
   ],
   "source": [
    "model.predict(embedded_docs[0])"
   ]
  },
  {
   "cell_type": "code",
   "execution_count": null,
   "id": "23cb7edf",
   "metadata": {},
   "outputs": [],
   "source": []
  }
 ],
 "metadata": {
  "kernelspec": {
   "display_name": "Python 3 (ipykernel)",
   "language": "python",
   "name": "python3"
  },
  "language_info": {
   "codemirror_mode": {
    "name": "ipython",
    "version": 3
   },
   "file_extension": ".py",
   "mimetype": "text/x-python",
   "name": "python",
   "nbconvert_exporter": "python",
   "pygments_lexer": "ipython3",
   "version": "3.11.5"
  }
 },
 "nbformat": 4,
 "nbformat_minor": 5
}
